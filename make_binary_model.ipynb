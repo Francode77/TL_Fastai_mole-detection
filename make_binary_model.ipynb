{
 "cells": [
  {
   "cell_type": "code",
   "execution_count": 1,
   "metadata": {},
   "outputs": [],
   "source": [
    "import pandas as pd\n",
    "import numpy as np\n",
    "import math\n",
    "import os\n",
    "import cv2\n",
    "import gc               # library to clear cache\n",
    "\n",
    "import timm             # library with pretrained models\n",
    "\n",
    "from fastai.data.all import *\n",
    "from fastai.vision.all import *\n",
    "from fastai.metrics import * \n",
    "\n",
    "from pathlib import Path\n",
    "from sklearn.model_selection import train_test_split\n"
   ]
  },
  {
   "cell_type": "code",
   "execution_count": 4,
   "metadata": {},
   "outputs": [],
   "source": [
    "# Run the model on the images in this path\n",
    "image_path='./data/test_images'\n",
    "image_path='./data/HAM10000_images'\n",
    "\n",
    "# preprocess into this path\n",
    "processed_image_path='./data/processed_images'"
   ]
  },
  {
   "attachments": {},
   "cell_type": "markdown",
   "metadata": {},
   "source": [
    "## Create the dataframe\n",
    "\n",
    "Creation of the dataframe with images and labels, and a new column to binary classify cancer risk.\n"
   ]
  },
  {
   "cell_type": "code",
   "execution_count": 10,
   "metadata": {},
   "outputs": [],
   "source": [
    "# For binary classification (cancer/no_cancer)\n",
    "def make_dict(df):\n",
    "    img_to_label_dict = df[[\"image_id\", \"label\"]].to_dict(orient='list')  \n",
    "    img_to_label_dict = {img_id : label for img_id,label in zip(img_to_label_dict['image_id'], img_to_label_dict['label']) }\n",
    "    return img_to_label_dict \n",
    "\n",
    "def get_cnc_label_from_dict(path):\n",
    "    return img_to_label_dict[path.stem]\n",
    "\n",
    "# Class to make the dataframe from metadata.csv\n",
    "class acquire_df:\n",
    "    def __init__(self) -> None:\n",
    " \n",
    "        self.csv_path = \"./data/HAM10000_metadata.csv\"\n",
    "        skin_df = pd.read_csv(self.csv_path) \n",
    "        skin_df['label']=0\n",
    "        skin_df.loc[skin_df['dx'].isin(['akiec','bcc','mel']),'label']=int(1)\n",
    "        \n",
    "        # Make the dataframe callable\n",
    "        self.df=skin_df \n",
    "        self.img_to_label_dict=make_dict(self.df) \n"
   ]
  },
  {
   "attachments": {},
   "cell_type": "markdown",
   "metadata": {},
   "source": [
    "### FastAI dataloader\n",
    "\n",
    "- Creates a datablock with images and labels to feed to the model. \n",
    "- Does random transformation of images in the dataset to include more variaton. \n",
    "- Does random cropping of batches of file to include more variation."
   ]
  },
  {
   "cell_type": "code",
   "execution_count": 11,
   "metadata": {},
   "outputs": [],
   "source": [
    "\n",
    "# Class to instantiate the FastAI datablock\n",
    "class datablock:\n",
    "    def __init__(self,img_path,batch_size) -> None: \n",
    "        \n",
    "        # Set the path of the image files\n",
    "        self.img_path=img_path\n",
    "        img_path = Path(self.img_path)\n",
    "        Path.BASE_PATH = img_path\n",
    " \n",
    "        # Define the datablock for FastAI\n",
    "        dblock = DataBlock(\n",
    "\n",
    "        # Designation of the independent and dependent variables\n",
    "        blocks = (ImageBlock, CategoryBlock), \n",
    "\n",
    "        # To get a list of those files from img_path, get_image_files returns a list of all of the images in that path\n",
    "        get_items = get_image_files, \n",
    "        \n",
    "        # Split our training and validation sets randomly\n",
    "        splitter = RandomSplitter(valid_pct=0.2, seed=42) ,\n",
    "\n",
    "        # We are telling fastai what function to call to create the target in our dataset\n",
    "        get_y = get_cnc_label_from_dict,\n",
    "\n",
    "        # VISION AUGMENTATION : add image transformations\n",
    "\n",
    "        # First resize and then add 8 transformed images to the dataset\n",
    "        item_tfms=[Resize(448), DihedralItem()],\n",
    "\n",
    "        # DATA AUGMENTATION\n",
    "\n",
    "        # First crop and then rescale randomly\n",
    "        batch_tfms = RandomResizedCrop (size=224, min_scale=0.6, max_scale=1.0)\n",
    "        )\n",
    "        self.dls = dblock.dataloaders(img_path, bs=batch_size,num_workers=7, pin_memory=True,device=torch.device('cuda')) # bs = batch size"
   ]
  },
  {
   "attachments": {},
   "cell_type": "markdown",
   "metadata": {},
   "source": [
    "## Model class\n",
    "\n",
    "This class creates the model \n",
    "\n",
    "#### Defining the optimal learning rate\n",
    " Ideally, we want to work in the linear zone, where there is a steepest drop in loss function. We will detect an optimal learning rate by choosing the valley, but also print the steepest and minimum loss points.\n"
   ]
  },
  {
   "cell_type": "code",
   "execution_count": 12,
   "metadata": {},
   "outputs": [],
   "source": [
    "# Class to instantiate the model \n",
    "class model:\n",
    "    def __init__(self,model,metrics,batch_size, fine_tune, calculate_lr, unfreeze_weights, nr_unfreeze_layers,epochs) -> None:\n",
    "        \n",
    "        self.model=model\n",
    "        self.metrics=metrics \n",
    "\n",
    "        # Clear cache and CUDA memory\n",
    "        torch.cuda.empty_cache()\n",
    "        gc.collect()  \n",
    "\n",
    "        # Create a FastAI datablock from 'image_path'\n",
    "        block=datablock(image_path,batch_size=batch_size)\n",
    "        self.dls=block.dls\n",
    "\n",
    "        #Instantiate learner\n",
    "        print ('Instantiate learner')     \n",
    "        self.learn = vision_learner(self.dls,self.model, metrics = self.metrics)  \n",
    "        print(self.learn.loss_func)\n",
    "        self.learn.cuda()\n",
    "\n",
    "        # Calculate optimal learning rate\n",
    "        if calculate_lr==True:\n",
    "            print ('Calculating learning rate')\n",
    "            self.lr_min,self.lr_steep,self.lr_valley,self.lr_slide=lrs = self.learn.lr_find(suggest_funcs=(minimum, steep, valley, slide))\n",
    "            print(f\"Minimum/10: {self.lr_min:.2e}\\n steepest point: {self.lr_steep:.2e}\\n valley point: {self.lr_valley:.2e}\\n slide point: {self.lr_slide:.2e}\")\n",
    "\n",
    "            plt.savefig(f'./models/{self.model.__name__}_learning_rate.png')\n",
    "            plt.show()\n",
    "\n",
    "        else:\n",
    "                    \n",
    "            self.lr_min=3.98e-03*10\n",
    "            self.lr_steep=2.51e-05*10\n",
    "                \n",
    "        if fine_tune==True: \n",
    "\n",
    "            # Fine-tune pretrained model\n",
    "            print (\"fine tune pretrained\")\n",
    "            self.learn.fine_tune(epochs, self.lr_valley)\n",
    "\n",
    "        else: \n",
    "\n",
    "            # Unfreeze weights\n",
    "            print ('Unfreeze and train')\n",
    "            self.learn.unfreeze()\n",
    "            \n",
    "            # print (f'Unfreeze {nr_unfreeze_layers} and train')\n",
    "            #self.learn.freeze_to(-3)\n",
    "\n",
    "            # Learn with unfreezed weights\n",
    "            self.learn.fit_one_cycle(epochs, self.lr_valley)\n",
    "\n",
    "        # Plot the loss curve\n",
    "        self.learn.recorder.plot_loss()\n",
    "        plt.savefig(f'./models/{self.model.__name__}_losses.png')        \n",
    "        plt.show()\n",
    "        \n",
    "        # Save the model\n",
    "        self.export_model()\n",
    "        \n",
    "    # Function to print the models confusion matrix\n",
    "    def print_confusion_matrix(self):\n",
    "\n",
    "        interp = ClassificationInterpretation.from_learner(self.learn)\n",
    "        interp.plot_confusion_matrix(figsize=(6,6), dpi=60)\n",
    " \n",
    "        plt.savefig(f'./models/{self.model.__name__}_confusion_matrix.png')\n",
    "        plt.show()\n",
    "        self.conf_matrix = interp.confusion_matrix()\n",
    "        total = sum(sum(self.conf_matrix))\n",
    "\n",
    "        print(\"True Positives: {:.2f}%\".format(100 * self.conf_matrix[1, 1] / total))\n",
    "        print(\"False Positives: {:.2f}%\".format(100 * self.conf_matrix[0, 1] / total))\n",
    "        print(\"True Negatives: {:.2f}%\".format(100 * self.conf_matrix[0, 0] / total))\n",
    "        print(\"False Negatives: {:.2f}%\".format(100 * self.conf_matrix[1, 0] / total))\n",
    "        \n",
    "        interp.most_confused\n",
    "        plt.show()\n",
    "\n",
    "    def print_architecture(self):\n",
    "\n",
    "        print(self.learn.summary())\n",
    "    \n",
    "    # Fuction to save the current models weights \n",
    "    def export_model(self):\n",
    "        self.learn.export(f'./models/{self.model.__name__}_cnc_binarylabels.pkl')"
   ]
  },
  {
   "cell_type": "code",
   "execution_count": 13,
   "metadata": {},
   "outputs": [],
   "source": [
    "\n",
    "# Create the dataframe\n",
    "df=acquire_df() \n",
    "\n",
    "# Create a dictionary with images and their class\n",
    "img_to_label_dict = df.img_to_label_dict\n"
   ]
  },
  {
   "attachments": {},
   "cell_type": "markdown",
   "metadata": {},
   "source": [
    "## Metrics\n",
    "\n",
    "We will use metrics that are specifically usefull for binary classification. "
   ]
  },
  {
   "cell_type": "code",
   "execution_count": 15,
   "metadata": {},
   "outputs": [],
   "source": [
    "# Metrics\n",
    "f1_score_multi = F1Score() \n",
    "precision=Precision()\n",
    "recall=Recall()\n",
    "balancedaccuracy=BalancedAccuracy()\n"
   ]
  },
  {
   "attachments": {},
   "cell_type": "markdown",
   "metadata": {},
   "source": [
    "## Choose the parameters for our model\n",
    "\n",
    "We call the model with the following parameters\n",
    "\n",
    "| Parameters | explanation |\n",
    "| :--------- | ----------: |\n",
    "| model | pretrained model |\n",
    "| metrics | metrics |\n",
    "| batch_size | batch size |\n",
    "| fine_tune | train on the last layer of the pre-trained model |\n",
    "| calculate_lr | to speed up, set to False |\n",
    "| unfreeze_weights | unfreeze the pre-trained model |\n",
    "| nr_unfreeze_layers | Unfreezing only the last (n) layers of pre-trained model |\n",
    "| epochs | Number of epochs | \n",
    "\n",
    "For the scope of this project we will retrain a pre-trained model on our dataset by unfreezing the weights. This gives better results than fine-tuning."
   ]
  },
  {
   "cell_type": "code",
   "execution_count": 16,
   "metadata": {},
   "outputs": [],
   "source": [
    "# Metrics\n",
    "metrics=[accuracy,balancedaccuracy,error_rate]\n",
    "\n",
    "# Batch size\n",
    "batch_size=8\n",
    "\n",
    "# Fine tune the pretrained model\n",
    "fine_tune=False\n",
    "\n",
    "# Determine learning rate\n",
    "calculate_lr=True\n",
    "\n",
    "# Unfreeze weights or unfreeze only last (n) weights\n",
    "unfreeze_weights=True\n",
    "nr_unfreeze_layers=0\n",
    "\n",
    "# Epochs\n",
    "epochs=24"
   ]
  },
  {
   "attachments": {},
   "cell_type": "markdown",
   "metadata": {},
   "source": [
    "## XceptionNet model\n",
    "\n",
    "For this project we will build a retrained XceptionNet model\n",
    " "
   ]
  },
  {
   "cell_type": "code",
   "execution_count": 23,
   "metadata": {},
   "outputs": [
    {
     "name": "stdout",
     "output_type": "stream",
     "text": [
      "Instantiate learner\n",
      "FlattenedLoss of CrossEntropyLoss()\n",
      "Calculating learning rate\n"
     ]
    },
    {
     "data": {
      "text/html": [
       "\n",
       "<style>\n",
       "    /* Turns off some styling */\n",
       "    progress {\n",
       "        /* gets rid of default border in Firefox and Opera. */\n",
       "        border: none;\n",
       "        /* Needs to be in here for Safari polyfill so background images work as expected. */\n",
       "        background-size: auto;\n",
       "    }\n",
       "    progress:not([value]), progress:not([value])::-webkit-progress-bar {\n",
       "        background: repeating-linear-gradient(45deg, #7e7e7e, #7e7e7e 10px, #5c5c5c 10px, #5c5c5c 20px);\n",
       "    }\n",
       "    .progress-bar-interrupted, .progress-bar-interrupted::-webkit-progress-bar {\n",
       "        background: #F44336;\n",
       "    }\n",
       "</style>\n"
      ],
      "text/plain": [
       "<IPython.core.display.HTML object>"
      ]
     },
     "metadata": {},
     "output_type": "display_data"
    },
    {
     "data": {
      "text/html": [],
      "text/plain": [
       "<IPython.core.display.HTML object>"
      ]
     },
     "metadata": {},
     "output_type": "display_data"
    },
    {
     "name": "stdout",
     "output_type": "stream",
     "text": [
      "Minimum/10: 6.31e-08\n",
      " steepest point: 5.75e-06\n",
      " valley point: 1.45e-05\n",
      " slide point: 8.32e-04\n"
     ]
    },
    {
     "data": {
      "image/png": "[encoded data removed]",
      "text/plain": [
       "<Figure size 640x480 with 1 Axes>"
      ]
     },
     "metadata": {},
     "output_type": "display_data"
    },
    {
     "name": "stdout",
     "output_type": "stream",
     "text": [
      "Unfreeze and train\n"
     ]
    },
    {
     "data": {
      "text/html": [
       "\n",
       "<style>\n",
       "    /* Turns off some styling */\n",
       "    progress {\n",
       "        /* gets rid of default border in Firefox and Opera. */\n",
       "        border: none;\n",
       "        /* Needs to be in here for Safari polyfill so background images work as expected. */\n",
       "        background-size: auto;\n",
       "    }\n",
       "    progress:not([value]), progress:not([value])::-webkit-progress-bar {\n",
       "        background: repeating-linear-gradient(45deg, #7e7e7e, #7e7e7e 10px, #5c5c5c 10px, #5c5c5c 20px);\n",
       "    }\n",
       "    .progress-bar-interrupted, .progress-bar-interrupted::-webkit-progress-bar {\n",
       "        background: #F44336;\n",
       "    }\n",
       "</style>\n"
      ],
      "text/plain": [
       "<IPython.core.display.HTML object>"
      ]
     },
     "metadata": {},
     "output_type": "display_data"
    },
    {
     "data": {
      "text/html": [
       "<table border=\"1\" class=\"dataframe\">\n",
       "  <thead>\n",
       "    <tr style=\"text-align: left;\">\n",
       "      <th>epoch</th>\n",
       "      <th>train_loss</th>\n",
       "      <th>valid_loss</th>\n",
       "      <th>accuracy</th>\n",
       "      <th>balanced_accuracy_score</th>\n",
       "      <th>error_rate</th>\n",
       "      <th>time</th>\n",
       "    </tr>\n",
       "  </thead>\n",
       "  <tbody>\n",
       "    <tr>\n",
       "      <td>0</td>\n",
       "      <td>1.140225</td>\n",
       "      <td>0.919960</td>\n",
       "      <td>0.548677</td>\n",
       "      <td>0.597474</td>\n",
       "      <td>0.451323</td>\n",
       "      <td>07:07</td>\n",
       "    </tr>\n",
       "    <tr>\n",
       "      <td>1</td>\n",
       "      <td>1.139796</td>\n",
       "      <td>0.827390</td>\n",
       "      <td>0.610085</td>\n",
       "      <td>0.685643</td>\n",
       "      <td>0.389915</td>\n",
       "      <td>06:59</td>\n",
       "    </tr>\n",
       "    <tr>\n",
       "      <td>2</td>\n",
       "      <td>1.024681</td>\n",
       "      <td>0.626472</td>\n",
       "      <td>0.694958</td>\n",
       "      <td>0.698938</td>\n",
       "      <td>0.305042</td>\n",
       "      <td>06:51</td>\n",
       "    </tr>\n",
       "    <tr>\n",
       "      <td>3</td>\n",
       "      <td>0.950843</td>\n",
       "      <td>0.524208</td>\n",
       "      <td>0.756865</td>\n",
       "      <td>0.745165</td>\n",
       "      <td>0.243135</td>\n",
       "      <td>06:50</td>\n",
       "    </tr>\n",
       "    <tr>\n",
       "      <td>4</td>\n",
       "      <td>0.863970</td>\n",
       "      <td>0.511034</td>\n",
       "      <td>0.782826</td>\n",
       "      <td>0.774028</td>\n",
       "      <td>0.217174</td>\n",
       "      <td>06:50</td>\n",
       "    </tr>\n",
       "    <tr>\n",
       "      <td>5</td>\n",
       "      <td>0.730488</td>\n",
       "      <td>0.450734</td>\n",
       "      <td>0.815776</td>\n",
       "      <td>0.778728</td>\n",
       "      <td>0.184224</td>\n",
       "      <td>06:49</td>\n",
       "    </tr>\n",
       "    <tr>\n",
       "      <td>6</td>\n",
       "      <td>0.654603</td>\n",
       "      <td>0.400291</td>\n",
       "      <td>0.837743</td>\n",
       "      <td>0.767777</td>\n",
       "      <td>0.162257</td>\n",
       "      <td>06:49</td>\n",
       "    </tr>\n",
       "    <tr>\n",
       "      <td>7</td>\n",
       "      <td>0.553610</td>\n",
       "      <td>0.363818</td>\n",
       "      <td>0.848228</td>\n",
       "      <td>0.765431</td>\n",
       "      <td>0.151772</td>\n",
       "      <td>06:49</td>\n",
       "    </tr>\n",
       "    <tr>\n",
       "      <td>8</td>\n",
       "      <td>0.579409</td>\n",
       "      <td>0.324828</td>\n",
       "      <td>0.860709</td>\n",
       "      <td>0.735828</td>\n",
       "      <td>0.139291</td>\n",
       "      <td>06:49</td>\n",
       "    </tr>\n",
       "    <tr>\n",
       "      <td>9</td>\n",
       "      <td>0.553976</td>\n",
       "      <td>0.322143</td>\n",
       "      <td>0.871692</td>\n",
       "      <td>0.771130</td>\n",
       "      <td>0.128308</td>\n",
       "      <td>06:49</td>\n",
       "    </tr>\n",
       "    <tr>\n",
       "      <td>10</td>\n",
       "      <td>0.464600</td>\n",
       "      <td>0.319336</td>\n",
       "      <td>0.870694</td>\n",
       "      <td>0.792128</td>\n",
       "      <td>0.129306</td>\n",
       "      <td>06:49</td>\n",
       "    </tr>\n",
       "    <tr>\n",
       "      <td>11</td>\n",
       "      <td>0.468705</td>\n",
       "      <td>0.304714</td>\n",
       "      <td>0.878682</td>\n",
       "      <td>0.765636</td>\n",
       "      <td>0.121318</td>\n",
       "      <td>06:50</td>\n",
       "    </tr>\n",
       "    <tr>\n",
       "      <td>12</td>\n",
       "      <td>0.428226</td>\n",
       "      <td>0.306460</td>\n",
       "      <td>0.875686</td>\n",
       "      <td>0.776553</td>\n",
       "      <td>0.124314</td>\n",
       "      <td>06:51</td>\n",
       "    </tr>\n",
       "    <tr>\n",
       "      <td>13</td>\n",
       "      <td>0.443660</td>\n",
       "      <td>0.287677</td>\n",
       "      <td>0.886670</td>\n",
       "      <td>0.797116</td>\n",
       "      <td>0.113330</td>\n",
       "      <td>06:49</td>\n",
       "    </tr>\n",
       "    <tr>\n",
       "      <td>14</td>\n",
       "      <td>0.442246</td>\n",
       "      <td>0.287218</td>\n",
       "      <td>0.883675</td>\n",
       "      <td>0.788382</td>\n",
       "      <td>0.116326</td>\n",
       "      <td>06:50</td>\n",
       "    </tr>\n",
       "    <tr>\n",
       "      <td>15</td>\n",
       "      <td>0.433464</td>\n",
       "      <td>0.289069</td>\n",
       "      <td>0.885172</td>\n",
       "      <td>0.762780</td>\n",
       "      <td>0.114828</td>\n",
       "      <td>06:50</td>\n",
       "    </tr>\n",
       "    <tr>\n",
       "      <td>16</td>\n",
       "      <td>0.347521</td>\n",
       "      <td>0.285949</td>\n",
       "      <td>0.883175</td>\n",
       "      <td>0.784142</td>\n",
       "      <td>0.116825</td>\n",
       "      <td>06:50</td>\n",
       "    </tr>\n",
       "    <tr>\n",
       "      <td>17</td>\n",
       "      <td>0.389984</td>\n",
       "      <td>0.282747</td>\n",
       "      <td>0.888667</td>\n",
       "      <td>0.784598</td>\n",
       "      <td>0.111333</td>\n",
       "      <td>06:50</td>\n",
       "    </tr>\n",
       "    <tr>\n",
       "      <td>18</td>\n",
       "      <td>0.354611</td>\n",
       "      <td>0.269287</td>\n",
       "      <td>0.887169</td>\n",
       "      <td>0.773843</td>\n",
       "      <td>0.112831</td>\n",
       "      <td>06:49</td>\n",
       "    </tr>\n",
       "    <tr>\n",
       "      <td>19</td>\n",
       "      <td>0.377883</td>\n",
       "      <td>0.280200</td>\n",
       "      <td>0.887169</td>\n",
       "      <td>0.779739</td>\n",
       "      <td>0.112831</td>\n",
       "      <td>06:49</td>\n",
       "    </tr>\n",
       "    <tr>\n",
       "      <td>20</td>\n",
       "      <td>0.381064</td>\n",
       "      <td>0.272078</td>\n",
       "      <td>0.888168</td>\n",
       "      <td>0.789201</td>\n",
       "      <td>0.111832</td>\n",
       "      <td>06:49</td>\n",
       "    </tr>\n",
       "    <tr>\n",
       "      <td>21</td>\n",
       "      <td>0.369900</td>\n",
       "      <td>0.269767</td>\n",
       "      <td>0.887668</td>\n",
       "      <td>0.785944</td>\n",
       "      <td>0.112332</td>\n",
       "      <td>06:50</td>\n",
       "    </tr>\n",
       "    <tr>\n",
       "      <td>22</td>\n",
       "      <td>0.401210</td>\n",
       "      <td>0.280990</td>\n",
       "      <td>0.885172</td>\n",
       "      <td>0.771623</td>\n",
       "      <td>0.114828</td>\n",
       "      <td>06:50</td>\n",
       "    </tr>\n",
       "    <tr>\n",
       "      <td>23</td>\n",
       "      <td>0.406494</td>\n",
       "      <td>0.269050</td>\n",
       "      <td>0.890165</td>\n",
       "      <td>0.792404</td>\n",
       "      <td>0.109835</td>\n",
       "      <td>06:50</td>\n",
       "    </tr>\n",
       "  </tbody>\n",
       "</table>"
      ],
      "text/plain": [
       "<IPython.core.display.HTML object>"
      ]
     },
     "metadata": {},
     "output_type": "display_data"
    },
    {
     "data": {
      "image/png": "[encoded data removed]",
      "text/plain": [
       "<Figure size 640x480 with 1 Axes>"
      ]
     },
     "metadata": {},
     "output_type": "display_data"
    },
    {
     "data": {
      "text/html": [
       "\n",
       "<style>\n",
       "    /* Turns off some styling */\n",
       "    progress {\n",
       "        /* gets rid of default border in Firefox and Opera. */\n",
       "        border: none;\n",
       "        /* Needs to be in here for Safari polyfill so background images work as expected. */\n",
       "        background-size: auto;\n",
       "    }\n",
       "    progress:not([value]), progress:not([value])::-webkit-progress-bar {\n",
       "        background: repeating-linear-gradient(45deg, #7e7e7e, #7e7e7e 10px, #5c5c5c 10px, #5c5c5c 20px);\n",
       "    }\n",
       "    .progress-bar-interrupted, .progress-bar-interrupted::-webkit-progress-bar {\n",
       "        background: #F44336;\n",
       "    }\n",
       "</style>\n"
      ],
      "text/plain": [
       "<IPython.core.display.HTML object>"
      ]
     },
     "metadata": {},
     "output_type": "display_data"
    },
    {
     "data": {
      "text/html": [],
      "text/plain": [
       "<IPython.core.display.HTML object>"
      ]
     },
     "metadata": {},
     "output_type": "display_data"
    },
    {
     "data": {
      "text/html": [
       "\n",
       "<style>\n",
       "    /* Turns off some styling */\n",
       "    progress {\n",
       "        /* gets rid of default border in Firefox and Opera. */\n",
       "        border: none;\n",
       "        /* Needs to be in here for Safari polyfill so background images work as expected. */\n",
       "        background-size: auto;\n",
       "    }\n",
       "    progress:not([value]), progress:not([value])::-webkit-progress-bar {\n",
       "        background: repeating-linear-gradient(45deg, #7e7e7e, #7e7e7e 10px, #5c5c5c 10px, #5c5c5c 20px);\n",
       "    }\n",
       "    .progress-bar-interrupted, .progress-bar-interrupted::-webkit-progress-bar {\n",
       "        background: #F44336;\n",
       "    }\n",
       "</style>\n"
      ],
      "text/plain": [
       "<IPython.core.display.HTML object>"
      ]
     },
     "metadata": {},
     "output_type": "display_data"
    },
    {
     "data": {
      "text/html": [],
      "text/plain": [
       "<IPython.core.display.HTML object>"
      ]
     },
     "metadata": {},
     "output_type": "display_data"
    },
    {
     "data": {
      "image/png": "[encoded data removed]",
      "text/plain": [
       "<Figure size 360x360 with 1 Axes>"
      ]
     },
     "metadata": {},
     "output_type": "display_data"
    },
    {
     "data": {
      "text/html": [
       "\n",
       "<style>\n",
       "    /* Turns off some styling */\n",
       "    progress {\n",
       "        /* gets rid of default border in Firefox and Opera. */\n",
       "        border: none;\n",
       "        /* Needs to be in here for Safari polyfill so background images work as expected. */\n",
       "        background-size: auto;\n",
       "    }\n",
       "    progress:not([value]), progress:not([value])::-webkit-progress-bar {\n",
       "        background: repeating-linear-gradient(45deg, #7e7e7e, #7e7e7e 10px, #5c5c5c 10px, #5c5c5c 20px);\n",
       "    }\n",
       "    .progress-bar-interrupted, .progress-bar-interrupted::-webkit-progress-bar {\n",
       "        background: #F44336;\n",
       "    }\n",
       "</style>\n"
      ],
      "text/plain": [
       "<IPython.core.display.HTML object>"
      ]
     },
     "metadata": {},
     "output_type": "display_data"
    },
    {
     "data": {
      "text/html": [],
      "text/plain": [
       "<IPython.core.display.HTML object>"
      ]
     },
     "metadata": {},
     "output_type": "display_data"
    },
    {
     "name": "stdout",
     "output_type": "stream",
     "text": [
      "True Positives: 12.23%\n",
      "False Positives: 3.89%\n",
      "True Negatives: 76.78%\n",
      "False Negatives: 7.09%\n"
     ]
    }
   ],
   "source": [
    "from timm.models import xception\n",
    "pretrained_model = xception\n",
    "\n",
    "model_xception=model(model=pretrained_model,metrics=metrics,batch_size=batch_size,fine_tune=fine_tune,calculate_lr=calculate_lr,unfreeze_weights=unfreeze_weights,nr_unfreeze_layers=nr_unfreeze_layers,epochs=epochs)\n",
    "model_xception.print_confusion_matrix()"
   ]
  },
  {
   "attachments": {},
   "cell_type": "markdown",
   "metadata": {},
   "source": [
    "### Print architecture\n",
    "\n",
    "If necessary, we can print the architecture of the model."
   ]
  },
  {
   "cell_type": "code",
   "execution_count": null,
   "metadata": {},
   "outputs": [],
   "source": [
    "model_xception.print_architecture() "
   ]
  }
 ],
 "metadata": {
  "kernelspec": {
   "display_name": "Python 3.10.7 ('GNT4')",
   "language": "python",
   "name": "python3"
  },
  "language_info": {
   "codemirror_mode": {
    "name": "ipython",
    "version": 3
   },
   "file_extension": ".py",
   "mimetype": "text/x-python",
   "name": "python",
   "nbconvert_exporter": "python",
   "pygments_lexer": "ipython3",
   "version": "3.10.7"
  },
  "orig_nbformat": 4,
  "vscode": {
   "interpreter": {
    "hash": "191fd5bc423838ddbcae0bcc874fd43bd9d068b2b4c1423a73bf0b80cf078172"
   }
  }
 },
 "nbformat": 4,
 "nbformat_minor": 2
}
